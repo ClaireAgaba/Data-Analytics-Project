{
 "cells": [
  {
   "cell_type": "code",
   "execution_count": 1,
   "metadata": {},
   "outputs": [],
   "source": [
    "import pandas as pd\n",
    "import numpy as np\n",
    "df = pd.read_excel('wikipedia_dataset_flat.xlsx')"
   ]
  },
  {
   "cell_type": "code",
   "execution_count": null,
   "metadata": {},
   "outputs": [],
   "source": [
    "df"
   ]
  },
  {
   "cell_type": "code",
   "execution_count": null,
   "metadata": {},
   "outputs": [],
   "source": [
    "df.isnull().sum().sort_values(ascending=False)\n",
    "#/len(df) (if you want percentage)"
   ]
  },
  {
   "cell_type": "code",
   "execution_count": null,
   "metadata": {},
   "outputs": [],
   "source": [
    "missing_values = df.loc[df['visits'].isnull()]\n",
    "missing_values"
   ]
  },
  {
   "cell_type": "code",
   "execution_count": null,
   "metadata": {},
   "outputs": [],
   "source": [
    "df_clean = df.fillna(0)\n",
    "df_clean"
   ]
  },
  {
   "cell_type": "code",
   "execution_count": null,
   "metadata": {},
   "outputs": [],
   "source": [
    "df_clean.isnull().sum().sort_values(ascending=False)"
   ]
  },
  {
   "cell_type": "code",
   "execution_count": null,
   "metadata": {},
   "outputs": [],
   "source": [
    "df_clean = df.drop_duplicates()\n",
    "df_clean"
   ]
  },
  {
   "cell_type": "code",
   "execution_count": null,
   "metadata": {},
   "outputs": [],
   "source": [
    "maxVisits = df_clean['visits'].max()\n",
    "maxVisits"
   ]
  },
  {
   "cell_type": "code",
   "execution_count": null,
   "metadata": {},
   "outputs": [],
   "source": [
    "df['visits'].idxmax()"
   ]
  },
  {
   "cell_type": "code",
   "execution_count": null,
   "metadata": {},
   "outputs": [],
   "source": [
    "df.iloc[311412,:]"
   ]
  },
  {
   "cell_type": "code",
   "execution_count": 25,
   "metadata": {},
   "outputs": [
    {
     "data": {
      "text/plain": [
       "1.0"
      ]
     },
     "execution_count": 25,
     "metadata": {},
     "output_type": "execute_result"
    }
   ],
   "source": [
    "minVisits = df['visits'].min()\n",
    "#maxValues = df.idxmax(axis=1)\n",
    "minVisits"
   ]
  },
  {
   "cell_type": "code",
   "execution_count": 46,
   "metadata": {},
   "outputs": [
    {
     "data": {
      "text/plain": [
       "66038"
      ]
     },
     "execution_count": 46,
     "metadata": {},
     "output_type": "execute_result"
    }
   ],
   "source": [
    "df['visits'].idxmin()"
   ]
  },
  {
   "cell_type": "code",
   "execution_count": null,
   "metadata": {},
   "outputs": [],
   "source": [
    "df.iloc[66038,:]"
   ]
  },
  {
   "cell_type": "code",
   "execution_count": null,
   "metadata": {},
   "outputs": [],
   "source": [
    "df_clean.dtypes"
   ]
  },
  {
   "cell_type": "code",
   "execution_count": null,
   "metadata": {},
   "outputs": [],
   "source": [
    "df_clean.sort_values(by=['date', 'visits'])\n",
    "df_clean"
   ]
  },
  {
   "cell_type": "code",
   "execution_count": null,
   "metadata": {},
   "outputs": [],
   "source": [
    "New_year_day = df_clean.query('date == \"2016-01-01\"')\n",
    "New_year_day.sort_values(by='visits', ascending=False)"
   ]
  },
  {
   "cell_type": "code",
   "execution_count": null,
   "metadata": {},
   "outputs": [],
   "source": [
    "MostTrending = New_year_day['visits'].max()\n",
    "MostTrending"
   ]
  },
  {
   "cell_type": "code",
   "execution_count": 76,
   "metadata": {},
   "outputs": [
    {
     "name": "stdout",
     "output_type": "stream",
     "text": [
      "Using matplotlib backend: Qt5Agg\n"
     ]
    }
   ],
   "source": [
    "%matplotlib"
   ]
  },
  {
   "cell_type": "code",
   "execution_count": 124,
   "metadata": {},
   "outputs": [
    {
     "data": {
      "text/plain": [
       "<AxesSubplot:xlabel='page'>"
      ]
     },
     "execution_count": 124,
     "metadata": {},
     "output_type": "execute_result"
    }
   ],
   "source": [
    "New_year_day.plot(x=\"page\", y =[\"visits\"])"
   ]
  },
  {
   "cell_type": "code",
   "execution_count": null,
   "metadata": {},
   "outputs": [],
   "source": [
    "Cuppucino_day = df_clean.query('date == \"2016-11-08\"')\n",
    "Cuppucino_day.sort_values(by='visits', ascending=False)"
   ]
  },
  {
   "cell_type": "code",
   "execution_count": 206,
   "metadata": {},
   "outputs": [
    {
     "data": {
      "text/html": [
       "<div>\n",
       "<style scoped>\n",
       "    .dataframe tbody tr th:only-of-type {\n",
       "        vertical-align: middle;\n",
       "    }\n",
       "\n",
       "    .dataframe tbody tr th {\n",
       "        vertical-align: top;\n",
       "    }\n",
       "\n",
       "    .dataframe thead th {\n",
       "        text-align: right;\n",
       "    }\n",
       "</style>\n",
       "<table border=\"1\" class=\"dataframe\">\n",
       "  <thead>\n",
       "    <tr style=\"text-align: right;\">\n",
       "      <th></th>\n",
       "      <th>Unnamed: 0</th>\n",
       "      <th>date</th>\n",
       "      <th>page</th>\n",
       "      <th>visits</th>\n",
       "      <th>day</th>\n",
       "      <th>month</th>\n",
       "      <th>year</th>\n",
       "      <th>day_name</th>\n",
       "    </tr>\n",
       "  </thead>\n",
       "  <tbody>\n",
       "    <tr>\n",
       "      <th>387915</th>\n",
       "      <td>387915</td>\n",
       "      <td>2016-09-15</td>\n",
       "      <td>Main_Page_en.wikipedia.org_mobile-web_all-agents</td>\n",
       "      <td>8752306.0</td>\n",
       "      <td>15</td>\n",
       "      <td>9</td>\n",
       "      <td>2016</td>\n",
       "      <td>Thursday</td>\n",
       "    </tr>\n",
       "    <tr>\n",
       "      <th>386415</th>\n",
       "      <td>386415</td>\n",
       "      <td>2016-09-14</td>\n",
       "      <td>Main_Page_en.wikipedia.org_mobile-web_all-agents</td>\n",
       "      <td>8011872.0</td>\n",
       "      <td>14</td>\n",
       "      <td>9</td>\n",
       "      <td>2016</td>\n",
       "      <td>Wednesday</td>\n",
       "    </tr>\n",
       "    <tr>\n",
       "      <th>93915</th>\n",
       "      <td>93915</td>\n",
       "      <td>2016-03-03</td>\n",
       "      <td>Main_Page_en.wikipedia.org_mobile-web_all-agents</td>\n",
       "      <td>7832778.0</td>\n",
       "      <td>3</td>\n",
       "      <td>3</td>\n",
       "      <td>2016</td>\n",
       "      <td>Thursday</td>\n",
       "    </tr>\n",
       "    <tr>\n",
       "      <th>272415</th>\n",
       "      <td>272415</td>\n",
       "      <td>2016-06-30</td>\n",
       "      <td>Main_Page_en.wikipedia.org_mobile-web_all-agents</td>\n",
       "      <td>7740443.0</td>\n",
       "      <td>30</td>\n",
       "      <td>6</td>\n",
       "      <td>2016</td>\n",
       "      <td>Thursday</td>\n",
       "    </tr>\n",
       "    <tr>\n",
       "      <th>243915</th>\n",
       "      <td>243915</td>\n",
       "      <td>2016-06-11</td>\n",
       "      <td>Main_Page_en.wikipedia.org_mobile-web_all-agents</td>\n",
       "      <td>7532163.0</td>\n",
       "      <td>11</td>\n",
       "      <td>6</td>\n",
       "      <td>2016</td>\n",
       "      <td>Saturday</td>\n",
       "    </tr>\n",
       "    <tr>\n",
       "      <th>...</th>\n",
       "      <td>...</td>\n",
       "      <td>...</td>\n",
       "      <td>...</td>\n",
       "      <td>...</td>\n",
       "      <td>...</td>\n",
       "      <td>...</td>\n",
       "      <td>...</td>\n",
       "      <td>...</td>\n",
       "    </tr>\n",
       "    <tr>\n",
       "      <th>394543</th>\n",
       "      <td>394543</td>\n",
       "      <td>2016-09-20</td>\n",
       "      <td>ã‚ªãƒŠã‚¤ã‚¦é˜¿é“_ja.wikipedia.org_mobile-web...</td>\n",
       "      <td>13.0</td>\n",
       "      <td>20</td>\n",
       "      <td>9</td>\n",
       "      <td>2016</td>\n",
       "      <td>Tuesday</td>\n",
       "    </tr>\n",
       "    <tr>\n",
       "      <th>457543</th>\n",
       "      <td>457543</td>\n",
       "      <td>2016-11-01</td>\n",
       "      <td>ã‚ªãƒŠã‚¤ã‚¦é˜¿é“_ja.wikipedia.org_mobile-web...</td>\n",
       "      <td>13.0</td>\n",
       "      <td>1</td>\n",
       "      <td>11</td>\n",
       "      <td>2016</td>\n",
       "      <td>Tuesday</td>\n",
       "    </tr>\n",
       "    <tr>\n",
       "      <th>438043</th>\n",
       "      <td>438043</td>\n",
       "      <td>2016-10-19</td>\n",
       "      <td>ã‚ªãƒŠã‚¤ã‚¦é˜¿é“_ja.wikipedia.org_mobile-web...</td>\n",
       "      <td>12.0</td>\n",
       "      <td>19</td>\n",
       "      <td>10</td>\n",
       "      <td>2016</td>\n",
       "      <td>Wednesday</td>\n",
       "    </tr>\n",
       "    <tr>\n",
       "      <th>364543</th>\n",
       "      <td>364543</td>\n",
       "      <td>2016-08-31</td>\n",
       "      <td>ã‚ªãƒŠã‚¤ã‚¦é˜¿é“_ja.wikipedia.org_mobile-web...</td>\n",
       "      <td>11.0</td>\n",
       "      <td>31</td>\n",
       "      <td>8</td>\n",
       "      <td>2016</td>\n",
       "      <td>Wednesday</td>\n",
       "    </tr>\n",
       "    <tr>\n",
       "      <th>450043</th>\n",
       "      <td>450043</td>\n",
       "      <td>2016-10-27</td>\n",
       "      <td>ã‚ªãƒŠã‚¤ã‚¦é˜¿é“_ja.wikipedia.org_mobile-web...</td>\n",
       "      <td>11.0</td>\n",
       "      <td>27</td>\n",
       "      <td>10</td>\n",
       "      <td>2016</td>\n",
       "      <td>Thursday</td>\n",
       "    </tr>\n",
       "  </tbody>\n",
       "</table>\n",
       "<p>107604 rows × 8 columns</p>\n",
       "</div>"
      ],
      "text/plain": [
       "        Unnamed: 0       date  \\\n",
       "387915      387915 2016-09-15   \n",
       "386415      386415 2016-09-14   \n",
       "93915        93915 2016-03-03   \n",
       "272415      272415 2016-06-30   \n",
       "243915      243915 2016-06-11   \n",
       "...            ...        ...   \n",
       "394543      394543 2016-09-20   \n",
       "457543      457543 2016-11-01   \n",
       "438043      438043 2016-10-19   \n",
       "364543      364543 2016-08-31   \n",
       "450043      450043 2016-10-27   \n",
       "\n",
       "                                                     page     visits  day  \\\n",
       "387915   Main_Page_en.wikipedia.org_mobile-web_all-agents  8752306.0   15   \n",
       "386415   Main_Page_en.wikipedia.org_mobile-web_all-agents  8011872.0   14   \n",
       "93915    Main_Page_en.wikipedia.org_mobile-web_all-agents  7832778.0    3   \n",
       "272415   Main_Page_en.wikipedia.org_mobile-web_all-agents  7740443.0   30   \n",
       "243915   Main_Page_en.wikipedia.org_mobile-web_all-agents  7532163.0   11   \n",
       "...                                                   ...        ...  ...   \n",
       "394543  ã‚ªãƒŠã‚¤ã‚¦é˜¿é“_ja.wikipedia.org_mobile-web...       13.0   20   \n",
       "457543  ã‚ªãƒŠã‚¤ã‚¦é˜¿é“_ja.wikipedia.org_mobile-web...       13.0    1   \n",
       "438043  ã‚ªãƒŠã‚¤ã‚¦é˜¿é“_ja.wikipedia.org_mobile-web...       12.0   19   \n",
       "364543  ã‚ªãƒŠã‚¤ã‚¦é˜¿é“_ja.wikipedia.org_mobile-web...       11.0   31   \n",
       "450043  ã‚ªãƒŠã‚¤ã‚¦é˜¿é“_ja.wikipedia.org_mobile-web...       11.0   27   \n",
       "\n",
       "        month  year   day_name  \n",
       "387915      9  2016   Thursday  \n",
       "386415      9  2016  Wednesday  \n",
       "93915       3  2016   Thursday  \n",
       "272415      6  2016   Thursday  \n",
       "243915      6  2016   Saturday  \n",
       "...       ...   ...        ...  \n",
       "394543      9  2016    Tuesday  \n",
       "457543     11  2016    Tuesday  \n",
       "438043     10  2016  Wednesday  \n",
       "364543      8  2016  Wednesday  \n",
       "450043     10  2016   Thursday  \n",
       "\n",
       "[107604 rows x 8 columns]"
      ]
     },
     "execution_count": 206,
     "metadata": {},
     "output_type": "execute_result"
    }
   ],
   "source": [
    "Mobile_device_type = df_clean.loc[df_clean['page'].str.contains ('mobile')]\n",
    "Mobile_device_type.sort_values(by=\"visits\", ascending=False)"
   ]
  },
  {
   "cell_type": "code",
   "execution_count": 207,
   "metadata": {},
   "outputs": [
    {
     "data": {
      "text/html": [
       "<div>\n",
       "<style scoped>\n",
       "    .dataframe tbody tr th:only-of-type {\n",
       "        vertical-align: middle;\n",
       "    }\n",
       "\n",
       "    .dataframe tbody tr th {\n",
       "        vertical-align: top;\n",
       "    }\n",
       "\n",
       "    .dataframe thead th {\n",
       "        text-align: right;\n",
       "    }\n",
       "</style>\n",
       "<table border=\"1\" class=\"dataframe\">\n",
       "  <thead>\n",
       "    <tr style=\"text-align: right;\">\n",
       "      <th></th>\n",
       "      <th>Unnamed: 0</th>\n",
       "      <th>date</th>\n",
       "      <th>page</th>\n",
       "      <th>visits</th>\n",
       "      <th>day</th>\n",
       "      <th>month</th>\n",
       "      <th>year</th>\n",
       "      <th>day_name</th>\n",
       "    </tr>\n",
       "  </thead>\n",
       "  <tbody>\n",
       "    <tr>\n",
       "      <th>311414</th>\n",
       "      <td>311414</td>\n",
       "      <td>2016-07-26</td>\n",
       "      <td>Main_Page_en.wikipedia.org_desktop_all-agents</td>\n",
       "      <td>62288712.0</td>\n",
       "      <td>26</td>\n",
       "      <td>7</td>\n",
       "      <td>2016</td>\n",
       "      <td>Tuesday</td>\n",
       "    </tr>\n",
       "    <tr>\n",
       "      <th>309914</th>\n",
       "      <td>309914</td>\n",
       "      <td>2016-07-25</td>\n",
       "      <td>Main_Page_en.wikipedia.org_desktop_all-agents</td>\n",
       "      <td>62174277.0</td>\n",
       "      <td>25</td>\n",
       "      <td>7</td>\n",
       "      <td>2016</td>\n",
       "      <td>Monday</td>\n",
       "    </tr>\n",
       "    <tr>\n",
       "      <th>320414</th>\n",
       "      <td>320414</td>\n",
       "      <td>2016-08-01</td>\n",
       "      <td>Main_Page_en.wikipedia.org_desktop_all-agents</td>\n",
       "      <td>61194103.0</td>\n",
       "      <td>1</td>\n",
       "      <td>8</td>\n",
       "      <td>2016</td>\n",
       "      <td>Monday</td>\n",
       "    </tr>\n",
       "    <tr>\n",
       "      <th>312914</th>\n",
       "      <td>312914</td>\n",
       "      <td>2016-07-27</td>\n",
       "      <td>Main_Page_en.wikipedia.org_desktop_all-agents</td>\n",
       "      <td>60219138.0</td>\n",
       "      <td>27</td>\n",
       "      <td>7</td>\n",
       "      <td>2016</td>\n",
       "      <td>Wednesday</td>\n",
       "    </tr>\n",
       "    <tr>\n",
       "      <th>314414</th>\n",
       "      <td>314414</td>\n",
       "      <td>2016-07-28</td>\n",
       "      <td>Main_Page_en.wikipedia.org_desktop_all-agents</td>\n",
       "      <td>59441638.0</td>\n",
       "      <td>28</td>\n",
       "      <td>7</td>\n",
       "      <td>2016</td>\n",
       "      <td>Thursday</td>\n",
       "    </tr>\n",
       "    <tr>\n",
       "      <th>...</th>\n",
       "      <td>...</td>\n",
       "      <td>...</td>\n",
       "      <td>...</td>\n",
       "      <td>...</td>\n",
       "      <td>...</td>\n",
       "      <td>...</td>\n",
       "      <td>...</td>\n",
       "      <td>...</td>\n",
       "    </tr>\n",
       "    <tr>\n",
       "      <th>542919</th>\n",
       "      <td>542919</td>\n",
       "      <td>2016-12-27</td>\n",
       "      <td>User:GoogleAnalitycsRoman/google-api_en.wikipe...</td>\n",
       "      <td>NaN</td>\n",
       "      <td>27</td>\n",
       "      <td>12</td>\n",
       "      <td>2016</td>\n",
       "      <td>Tuesday</td>\n",
       "    </tr>\n",
       "    <tr>\n",
       "      <th>544419</th>\n",
       "      <td>544419</td>\n",
       "      <td>2016-12-28</td>\n",
       "      <td>User:GoogleAnalitycsRoman/google-api_en.wikipe...</td>\n",
       "      <td>NaN</td>\n",
       "      <td>28</td>\n",
       "      <td>12</td>\n",
       "      <td>2016</td>\n",
       "      <td>Wednesday</td>\n",
       "    </tr>\n",
       "    <tr>\n",
       "      <th>545919</th>\n",
       "      <td>545919</td>\n",
       "      <td>2016-12-29</td>\n",
       "      <td>User:GoogleAnalitycsRoman/google-api_en.wikipe...</td>\n",
       "      <td>NaN</td>\n",
       "      <td>29</td>\n",
       "      <td>12</td>\n",
       "      <td>2016</td>\n",
       "      <td>Thursday</td>\n",
       "    </tr>\n",
       "    <tr>\n",
       "      <th>547419</th>\n",
       "      <td>547419</td>\n",
       "      <td>2016-12-30</td>\n",
       "      <td>User:GoogleAnalitycsRoman/google-api_en.wikipe...</td>\n",
       "      <td>NaN</td>\n",
       "      <td>30</td>\n",
       "      <td>12</td>\n",
       "      <td>2016</td>\n",
       "      <td>Friday</td>\n",
       "    </tr>\n",
       "    <tr>\n",
       "      <th>548919</th>\n",
       "      <td>548919</td>\n",
       "      <td>2016-12-31</td>\n",
       "      <td>User:GoogleAnalitycsRoman/google-api_en.wikipe...</td>\n",
       "      <td>NaN</td>\n",
       "      <td>31</td>\n",
       "      <td>12</td>\n",
       "      <td>2016</td>\n",
       "      <td>Saturday</td>\n",
       "    </tr>\n",
       "  </tbody>\n",
       "</table>\n",
       "<p>99186 rows × 8 columns</p>\n",
       "</div>"
      ],
      "text/plain": [
       "        Unnamed: 0       date  \\\n",
       "311414      311414 2016-07-26   \n",
       "309914      309914 2016-07-25   \n",
       "320414      320414 2016-08-01   \n",
       "312914      312914 2016-07-27   \n",
       "314414      314414 2016-07-28   \n",
       "...            ...        ...   \n",
       "542919      542919 2016-12-27   \n",
       "544419      544419 2016-12-28   \n",
       "545919      545919 2016-12-29   \n",
       "547419      547419 2016-12-30   \n",
       "548919      548919 2016-12-31   \n",
       "\n",
       "                                                     page      visits  day  \\\n",
       "311414      Main_Page_en.wikipedia.org_desktop_all-agents  62288712.0   26   \n",
       "309914      Main_Page_en.wikipedia.org_desktop_all-agents  62174277.0   25   \n",
       "320414      Main_Page_en.wikipedia.org_desktop_all-agents  61194103.0    1   \n",
       "312914      Main_Page_en.wikipedia.org_desktop_all-agents  60219138.0   27   \n",
       "314414      Main_Page_en.wikipedia.org_desktop_all-agents  59441638.0   28   \n",
       "...                                                   ...         ...  ...   \n",
       "542919  User:GoogleAnalitycsRoman/google-api_en.wikipe...         NaN   27   \n",
       "544419  User:GoogleAnalitycsRoman/google-api_en.wikipe...         NaN   28   \n",
       "545919  User:GoogleAnalitycsRoman/google-api_en.wikipe...         NaN   29   \n",
       "547419  User:GoogleAnalitycsRoman/google-api_en.wikipe...         NaN   30   \n",
       "548919  User:GoogleAnalitycsRoman/google-api_en.wikipe...         NaN   31   \n",
       "\n",
       "        month  year   day_name  \n",
       "311414      7  2016    Tuesday  \n",
       "309914      7  2016     Monday  \n",
       "320414      8  2016     Monday  \n",
       "312914      7  2016  Wednesday  \n",
       "314414      7  2016   Thursday  \n",
       "...       ...   ...        ...  \n",
       "542919     12  2016    Tuesday  \n",
       "544419     12  2016  Wednesday  \n",
       "545919     12  2016   Thursday  \n",
       "547419     12  2016     Friday  \n",
       "548919     12  2016   Saturday  \n",
       "\n",
       "[99186 rows x 8 columns]"
      ]
     },
     "execution_count": 207,
     "metadata": {},
     "output_type": "execute_result"
    }
   ],
   "source": [
    "Desktop_device_type = df_clean.loc[df_clean['page'].str.contains ('desktop')]\n",
    "Desktop_device_type.sort_values(by=\"visits\", ascending=False)"
   ]
  },
  {
   "cell_type": "code",
   "execution_count": null,
   "metadata": {},
   "outputs": [],
   "source": [
    "Others = df_clean.loc[df_clean['page'].str.contains ('access')]\n",
    "Others.sort_values(by=\"visits\", ascending=False)"
   ]
  },
  {
   "cell_type": "code",
   "execution_count": null,
   "metadata": {},
   "outputs": [],
   "source": [
    "df_clean"
   ]
  },
  {
   "cell_type": "code",
   "execution_count": null,
   "metadata": {},
   "outputs": [],
   "source": [
    "df_clean['day'] = df_clean['date'].dt.day\n",
    "df_clean['month'] = df_clean['date'].dt.month\n",
    "df_clean['year'] = df_clean['date'].dt.year\n",
    "df_clean['day_name'] = df_clean['date'].dt.day_name()\n",
    "df_clean.sort_values(by='visits', ascending= True).head(10)"
   ]
  },
  {
   "cell_type": "code",
   "execution_count": null,
   "metadata": {},
   "outputs": [],
   "source": [
    "df_clean"
   ]
  },
  {
   "cell_type": "code",
   "execution_count": 212,
   "metadata": {},
   "outputs": [
    {
     "data": {
      "text/html": [
       "<div>\n",
       "<style scoped>\n",
       "    .dataframe tbody tr th:only-of-type {\n",
       "        vertical-align: middle;\n",
       "    }\n",
       "\n",
       "    .dataframe tbody tr th {\n",
       "        vertical-align: top;\n",
       "    }\n",
       "\n",
       "    .dataframe thead th {\n",
       "        text-align: right;\n",
       "    }\n",
       "</style>\n",
       "<table border=\"1\" class=\"dataframe\">\n",
       "  <thead>\n",
       "    <tr style=\"text-align: right;\">\n",
       "      <th></th>\n",
       "      <th>day_name</th>\n",
       "      <th>visits</th>\n",
       "    </tr>\n",
       "  </thead>\n",
       "  <tbody>\n",
       "    <tr>\n",
       "      <th>311412</th>\n",
       "      <td>Tuesday</td>\n",
       "      <td>67264258.0</td>\n",
       "    </tr>\n",
       "    <tr>\n",
       "      <th>309912</th>\n",
       "      <td>Monday</td>\n",
       "      <td>67122896.0</td>\n",
       "    </tr>\n",
       "    <tr>\n",
       "      <th>320412</th>\n",
       "      <td>Monday</td>\n",
       "      <td>66131225.0</td>\n",
       "    </tr>\n",
       "    <tr>\n",
       "      <th>312912</th>\n",
       "      <td>Wednesday</td>\n",
       "      <td>65155635.0</td>\n",
       "    </tr>\n",
       "    <tr>\n",
       "      <th>314412</th>\n",
       "      <td>Thursday</td>\n",
       "      <td>64355899.0</td>\n",
       "    </tr>\n",
       "    <tr>\n",
       "      <th>321912</th>\n",
       "      <td>Tuesday</td>\n",
       "      <td>63079604.0</td>\n",
       "    </tr>\n",
       "    <tr>\n",
       "      <th>341412</th>\n",
       "      <td>Monday</td>\n",
       "      <td>63052818.0</td>\n",
       "    </tr>\n",
       "    <tr>\n",
       "      <th>311414</th>\n",
       "      <td>Tuesday</td>\n",
       "      <td>62288712.0</td>\n",
       "    </tr>\n",
       "    <tr>\n",
       "      <th>318912</th>\n",
       "      <td>Sunday</td>\n",
       "      <td>62260676.0</td>\n",
       "    </tr>\n",
       "    <tr>\n",
       "      <th>309914</th>\n",
       "      <td>Monday</td>\n",
       "      <td>62174277.0</td>\n",
       "    </tr>\n",
       "    <tr>\n",
       "      <th>308412</th>\n",
       "      <td>Sunday</td>\n",
       "      <td>62089436.0</td>\n",
       "    </tr>\n",
       "    <tr>\n",
       "      <th>320414</th>\n",
       "      <td>Monday</td>\n",
       "      <td>61194103.0</td>\n",
       "    </tr>\n",
       "    <tr>\n",
       "      <th>333912</th>\n",
       "      <td>Wednesday</td>\n",
       "      <td>60968723.0</td>\n",
       "    </tr>\n",
       "    <tr>\n",
       "      <th>315912</th>\n",
       "      <td>Friday</td>\n",
       "      <td>60733892.0</td>\n",
       "    </tr>\n",
       "  </tbody>\n",
       "</table>\n",
       "</div>"
      ],
      "text/plain": [
       "         day_name      visits\n",
       "311412    Tuesday  67264258.0\n",
       "309912     Monday  67122896.0\n",
       "320412     Monday  66131225.0\n",
       "312912  Wednesday  65155635.0\n",
       "314412   Thursday  64355899.0\n",
       "321912    Tuesday  63079604.0\n",
       "341412     Monday  63052818.0\n",
       "311414    Tuesday  62288712.0\n",
       "318912     Sunday  62260676.0\n",
       "309914     Monday  62174277.0\n",
       "308412     Sunday  62089436.0\n",
       "320414     Monday  61194103.0\n",
       "333912  Wednesday  60968723.0\n",
       "315912     Friday  60733892.0"
      ]
     },
     "execution_count": 212,
     "metadata": {},
     "output_type": "execute_result"
    }
   ],
   "source": [
    "MostPopular =  df_clean[['day_name', 'visits']]\n",
    "MostPopular.sort_values(by=\"visits\", ascending = False).head(14)\n"
   ]
  },
  {
   "cell_type": "code",
   "execution_count": 188,
   "metadata": {},
   "outputs": [
    {
     "data": {
      "text/plain": [
       "<AxesSubplot:xlabel='day_name'>"
      ]
     },
     "execution_count": 188,
     "metadata": {},
     "output_type": "execute_result"
    }
   ],
   "source": [
    "MostPopular.plot(x=\"day_name\", y =[\"visits\"])"
   ]
  },
  {
   "cell_type": "code",
   "execution_count": null,
   "metadata": {},
   "outputs": [],
   "source": [
    "LeastPopular =  df_clean[['day_name', 'visits']]\n",
    "LeastPopular.sort_values(by=\"visits\", ascending = True).head(14)"
   ]
  },
  {
   "cell_type": "code",
   "execution_count": 200,
   "metadata": {},
   "outputs": [
    {
     "data": {
      "text/html": [
       "<div>\n",
       "<style scoped>\n",
       "    .dataframe tbody tr th:only-of-type {\n",
       "        vertical-align: middle;\n",
       "    }\n",
       "\n",
       "    .dataframe tbody tr th {\n",
       "        vertical-align: top;\n",
       "    }\n",
       "\n",
       "    .dataframe thead th {\n",
       "        text-align: right;\n",
       "    }\n",
       "</style>\n",
       "<table border=\"1\" class=\"dataframe\">\n",
       "  <thead>\n",
       "    <tr style=\"text-align: right;\">\n",
       "      <th></th>\n",
       "      <th>day_name</th>\n",
       "      <th>visits</th>\n",
       "    </tr>\n",
       "  </thead>\n",
       "  <tbody>\n",
       "    <tr>\n",
       "      <th>66038</th>\n",
       "      <td>Sunday</td>\n",
       "      <td>1.0</td>\n",
       "    </tr>\n",
       "    <tr>\n",
       "      <th>365121</th>\n",
       "      <td>Wednesday</td>\n",
       "      <td>2.0</td>\n",
       "    </tr>\n",
       "    <tr>\n",
       "      <th>139538</th>\n",
       "      <td>Sunday</td>\n",
       "      <td>2.0</td>\n",
       "    </tr>\n",
       "    <tr>\n",
       "      <th>179121</th>\n",
       "      <td>Friday</td>\n",
       "      <td>2.0</td>\n",
       "    </tr>\n",
       "    <tr>\n",
       "      <th>509061</th>\n",
       "      <td>Monday</td>\n",
       "      <td>2.0</td>\n",
       "    </tr>\n",
       "    <tr>\n",
       "      <th>159621</th>\n",
       "      <td>Saturday</td>\n",
       "      <td>2.0</td>\n",
       "    </tr>\n",
       "    <tr>\n",
       "      <th>487214</th>\n",
       "      <td>Sunday</td>\n",
       "      <td>2.0</td>\n",
       "    </tr>\n",
       "    <tr>\n",
       "      <th>510561</th>\n",
       "      <td>Tuesday</td>\n",
       "      <td>2.0</td>\n",
       "    </tr>\n",
       "    <tr>\n",
       "      <th>522561</th>\n",
       "      <td>Wednesday</td>\n",
       "      <td>3.0</td>\n",
       "    </tr>\n",
       "    <tr>\n",
       "      <th>180038</th>\n",
       "      <td>Saturday</td>\n",
       "      <td>3.0</td>\n",
       "    </tr>\n",
       "  </tbody>\n",
       "</table>\n",
       "</div>"
      ],
      "text/plain": [
       "         day_name  visits\n",
       "66038      Sunday     1.0\n",
       "365121  Wednesday     2.0\n",
       "139538     Sunday     2.0\n",
       "179121     Friday     2.0\n",
       "509061     Monday     2.0\n",
       "159621   Saturday     2.0\n",
       "487214     Sunday     2.0\n",
       "510561    Tuesday     2.0\n",
       "522561  Wednesday     3.0\n",
       "180038   Saturday     3.0"
      ]
     },
     "execution_count": 200,
     "metadata": {},
     "output_type": "execute_result"
    }
   ],
   "source": [
    "least = LeastPopular\n",
    "least.sort_values(by='visits', ascending=True).head(10)"
   ]
  },
  {
   "cell_type": "code",
   "execution_count": 199,
   "metadata": {},
   "outputs": [
    {
     "data": {
      "text/plain": [
       "<AxesSubplot:xlabel='day_name'>"
      ]
     },
     "execution_count": 199,
     "metadata": {},
     "output_type": "execute_result"
    }
   ],
   "source": [
    "least.plot(x=\"day_name\", y =[\"visits\"])"
   ]
  },
  {
   "cell_type": "code",
   "execution_count": null,
   "metadata": {},
   "outputs": [],
   "source": [
    "Langu = df_clean.loc[df_clean['page'].str.contains ('fr')]\n",
    "Langu.sort_values(by=\"visits\", ascending=False)"
   ]
  },
  {
   "cell_type": "code",
   "execution_count": null,
   "metadata": {},
   "outputs": [],
   "source": [
    "cats = np.array(['decline', '------', 'increase'])\n",
    "df_clean.assign(\n",
    "    change=cats[np.sign(np.append(0, np.diff(df_clean.visits.values, 1)) ).astype(np.uint8) + 1]\n",
    "    )\n"
   ]
  },
  {
   "cell_type": "code",
   "execution_count": null,
   "metadata": {},
   "outputs": [],
   "source": [
    "Desktop_device_type = df_clean.loc[df_clean['page'].str.contains ('desktop')]\n",
    "Desktop_device_type.sort_values(by=\"visits\", ascending=False)"
   ]
  },
  {
   "cell_type": "code",
   "execution_count": 177,
   "metadata": {},
   "outputs": [
    {
     "data": {
      "text/html": [
       "<div>\n",
       "<style scoped>\n",
       "    .dataframe tbody tr th:only-of-type {\n",
       "        vertical-align: middle;\n",
       "    }\n",
       "\n",
       "    .dataframe tbody tr th {\n",
       "        vertical-align: top;\n",
       "    }\n",
       "\n",
       "    .dataframe thead th {\n",
       "        text-align: right;\n",
       "    }\n",
       "</style>\n",
       "<table border=\"1\" class=\"dataframe\">\n",
       "  <thead>\n",
       "    <tr style=\"text-align: right;\">\n",
       "      <th></th>\n",
       "      <th>page</th>\n",
       "      <th>visits</th>\n",
       "    </tr>\n",
       "  </thead>\n",
       "  <tbody>\n",
       "    <tr>\n",
       "      <th>0</th>\n",
       "      <td>.xxx_en.wikipedia.org_all-access_all-agents</td>\n",
       "      <td>7089.0</td>\n",
       "    </tr>\n",
       "    <tr>\n",
       "      <th>1</th>\n",
       "      <td>.xxx_en.wikipedia.org_mobile-web_all-agents</td>\n",
       "      <td>6182.0</td>\n",
       "    </tr>\n",
       "    <tr>\n",
       "      <th>2</th>\n",
       "      <td>1._Juli_de.wikipedia.org_desktop_all-agents</td>\n",
       "      <td>20.0</td>\n",
       "    </tr>\n",
       "    <tr>\n",
       "      <th>3</th>\n",
       "      <td>2014_FIFA_World_Cup_en.wikipedia.org_all-acces...</td>\n",
       "      <td>5363.0</td>\n",
       "    </tr>\n",
       "    <tr>\n",
       "      <th>4</th>\n",
       "      <td>2014_FIFA_World_Cup_en.wikipedia.org_desktop_a...</td>\n",
       "      <td>3186.0</td>\n",
       "    </tr>\n",
       "    <tr>\n",
       "      <th>...</th>\n",
       "      <td>...</td>\n",
       "      <td>...</td>\n",
       "    </tr>\n",
       "    <tr>\n",
       "      <th>548995</th>\n",
       "      <td>Zac_Efron_en.wikipedia.org_all-access_all-agents</td>\n",
       "      <td>13146.0</td>\n",
       "    </tr>\n",
       "    <tr>\n",
       "      <th>548996</th>\n",
       "      <td>Zayn_Malik_en.wikipedia.org_all-access_all-agents</td>\n",
       "      <td>12597.0</td>\n",
       "    </tr>\n",
       "    <tr>\n",
       "      <th>548997</th>\n",
       "      <td>Zendaya_en.wikipedia.org_all-access_all-agents</td>\n",
       "      <td>6217.0</td>\n",
       "    </tr>\n",
       "    <tr>\n",
       "      <th>548998</th>\n",
       "      <td>Zendaya_en.wikipedia.org_mobile-web_all-agents</td>\n",
       "      <td>4650.0</td>\n",
       "    </tr>\n",
       "    <tr>\n",
       "      <th>548999</th>\n",
       "      <td>Zodiac_Killer_en.wikipedia.org_all-access_all-...</td>\n",
       "      <td>6659.0</td>\n",
       "    </tr>\n",
       "  </tbody>\n",
       "</table>\n",
       "<p>549000 rows × 2 columns</p>\n",
       "</div>"
      ],
      "text/plain": [
       "                                                     page   visits\n",
       "0             .xxx_en.wikipedia.org_all-access_all-agents   7089.0\n",
       "1             .xxx_en.wikipedia.org_mobile-web_all-agents   6182.0\n",
       "2             1._Juli_de.wikipedia.org_desktop_all-agents     20.0\n",
       "3       2014_FIFA_World_Cup_en.wikipedia.org_all-acces...   5363.0\n",
       "4       2014_FIFA_World_Cup_en.wikipedia.org_desktop_a...   3186.0\n",
       "...                                                   ...      ...\n",
       "548995   Zac_Efron_en.wikipedia.org_all-access_all-agents  13146.0\n",
       "548996  Zayn_Malik_en.wikipedia.org_all-access_all-agents  12597.0\n",
       "548997     Zendaya_en.wikipedia.org_all-access_all-agents   6217.0\n",
       "548998     Zendaya_en.wikipedia.org_mobile-web_all-agents   4650.0\n",
       "548999  Zodiac_Killer_en.wikipedia.org_all-access_all-...   6659.0\n",
       "\n",
       "[549000 rows x 2 columns]"
      ]
     },
     "execution_count": 177,
     "metadata": {},
     "output_type": "execute_result"
    }
   ],
   "source": [
    "Dec = df_clean[['page','visits']]\n",
    "Dec"
   ]
  },
  {
   "cell_type": "code",
   "execution_count": null,
   "metadata": {},
   "outputs": [],
   "source": [
    "PageNo = Dec['page'].value_counts()\n",
    "PageNo\n"
   ]
  },
  {
   "cell_type": "code",
   "execution_count": null,
   "metadata": {},
   "outputs": [],
   "source": [
    "'''connection = sqlite3.connect(\"wiki.db\")\n",
    "cursor = connection.cursor()\n",
    "connection.commit()\n",
    "'''"
   ]
  },
  {
   "cell_type": "code",
   "execution_count": 97,
   "metadata": {},
   "outputs": [],
   "source": [
    "'''class DBConnection:\n",
    "\n",
    "    def __init__(self, dbpath):\n",
    "        self.connection = sqlite3.connect(dbpath)\n",
    "        self.cursor = self.connection.cursor()\n",
    "\n",
    "    def create_table(self, query):\n",
    "        self.cursor.execute(query)\n",
    "\n",
    "def main():\n",
    "    dbpath = f\"./wiki.db\"\n",
    "    sql_create_fits_table = \"\"\"\n",
    "        CREATE TABLE IF NOT EXISTS wiki_main(\n",
    "            id integer auto increment PRIMARY KEY,\n",
    "                 Date DATE,\n",
    "                 Pages TEXT,\n",
    "                Visits INTEGER NOT NULL\n",
    "            \n",
    "        ); \"\"\"\n",
    "    connection = DBConnection(dbpath)\n",
    "    connection.create_table(sql_create_fits_table)\n",
    "\n",
    "if __name__ == '__main__':\n",
    "    main()\n",
    "    '''"
   ]
  },
  {
   "cell_type": "code",
   "execution_count": 98,
   "metadata": {},
   "outputs": [
    {
     "data": {
      "text/plain": [
       "<sqlite3.Cursor at 0x1c23cb7ec70>"
      ]
     },
     "execution_count": 98,
     "metadata": {},
     "output_type": "execute_result"
    }
   ],
   "source": [
    "'''c.execute(\n",
    "    \"\"\"\n",
    "    CREATE TABLE IF NOT EXISTS wiki_main(\n",
    "            id integer auto increment PRIMARY KEY,\n",
    "                 Date DATE,\n",
    "                 Pages TEXT,\n",
    "                Visits INTEGER NOT NULL\n",
    "                ); \"\"\")\n",
    "                '''"
   ]
  }
 ],
 "metadata": {
  "interpreter": {
   "hash": "97cefb4d76bc3d8c72184ea80c6c39f0ed335754bbf960435737b7eb89cef10d"
  },
  "kernelspec": {
   "display_name": "Python 3.9.7 ('base')",
   "language": "python",
   "name": "python3"
  },
  "language_info": {
   "codemirror_mode": {
    "name": "ipython",
    "version": 3
   },
   "file_extension": ".py",
   "mimetype": "text/x-python",
   "name": "python",
   "nbconvert_exporter": "python",
   "pygments_lexer": "ipython3",
   "version": "3.9.7"
  },
  "orig_nbformat": 4
 },
 "nbformat": 4,
 "nbformat_minor": 2
}
